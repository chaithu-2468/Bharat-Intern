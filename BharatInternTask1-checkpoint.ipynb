{
 "cells": [
  {
   "cell_type": "markdown",
   "id": "a4b63246-763b-4a0e-920c-442ff9b66393",
   "metadata": {},
   "source": [
    "# importing libraries"
   ]
  },
  {
   "cell_type": "code",
   "execution_count": 4,
   "id": "c935e094-45a6-4e9d-97b1-181c3a701257",
   "metadata": {},
   "outputs": [],
   "source": [
    "import pandas as pd\n",
    "import numpy as np\n",
    "import matplotlib.pyplot as plt\n",
    "import seaborn as sns\n",
    "%matplotlib inline"
   ]
  },
  {
   "cell_type": "markdown",
   "id": "93aaedd5-769c-4b94-8a72-e3a913fa10f5",
   "metadata": {},
   "source": [
    "# importing dataset"
   ]
  },
  {
   "cell_type": "code",
   "execution_count": 5,
   "id": "ffb11054-03b8-4f89-ba22-ddd867ba2ef9",
   "metadata": {},
   "outputs": [],
   "source": [
    "df = pd.read_csv(\"MagicBricks.csv\")"
   ]
  },
  {
   "cell_type": "code",
   "execution_count": 6,
   "id": "f84d38b8-1527-458b-b1dd-c3be09977ffd",
   "metadata": {},
   "outputs": [],
   "source": [
    "# printing first ten rows and last ten rows"
   ]
  },
  {
   "cell_type": "code",
   "execution_count": 7,
   "id": "c7a4c89f-f0ab-45fe-ae5f-593202dbd527",
   "metadata": {},
   "outputs": [
    {
     "data": {
      "text/html": [
       "<div>\n",
       "<style scoped>\n",
       "    .dataframe tbody tr th:only-of-type {\n",
       "        vertical-align: middle;\n",
       "    }\n",
       "\n",
       "    .dataframe tbody tr th {\n",
       "        vertical-align: top;\n",
       "    }\n",
       "\n",
       "    .dataframe thead th {\n",
       "        text-align: right;\n",
       "    }\n",
       "</style>\n",
       "<table border=\"1\" class=\"dataframe\">\n",
       "  <thead>\n",
       "    <tr style=\"text-align: right;\">\n",
       "      <th></th>\n",
       "      <th>Area</th>\n",
       "      <th>BHK</th>\n",
       "      <th>Bathroom</th>\n",
       "      <th>Furnishing</th>\n",
       "      <th>Parking</th>\n",
       "      <th>Price</th>\n",
       "      <th>Status</th>\n",
       "      <th>Transaction</th>\n",
       "      <th>Type</th>\n",
       "      <th>Per_Sqft</th>\n",
       "    </tr>\n",
       "  </thead>\n",
       "  <tbody>\n",
       "    <tr>\n",
       "      <th>0</th>\n",
       "      <td>800.0</td>\n",
       "      <td>3</td>\n",
       "      <td>2.0</td>\n",
       "      <td>Semi-Furnished</td>\n",
       "      <td>1.0</td>\n",
       "      <td>6500000</td>\n",
       "      <td>Ready_to_move</td>\n",
       "      <td>New_Property</td>\n",
       "      <td>Builder_Floor</td>\n",
       "      <td>NaN</td>\n",
       "    </tr>\n",
       "    <tr>\n",
       "      <th>1</th>\n",
       "      <td>750.0</td>\n",
       "      <td>2</td>\n",
       "      <td>2.0</td>\n",
       "      <td>Semi-Furnished</td>\n",
       "      <td>1.0</td>\n",
       "      <td>5000000</td>\n",
       "      <td>Ready_to_move</td>\n",
       "      <td>New_Property</td>\n",
       "      <td>Apartment</td>\n",
       "      <td>6667.0</td>\n",
       "    </tr>\n",
       "    <tr>\n",
       "      <th>2</th>\n",
       "      <td>950.0</td>\n",
       "      <td>2</td>\n",
       "      <td>2.0</td>\n",
       "      <td>Furnished</td>\n",
       "      <td>1.0</td>\n",
       "      <td>15500000</td>\n",
       "      <td>Ready_to_move</td>\n",
       "      <td>Resale</td>\n",
       "      <td>Apartment</td>\n",
       "      <td>6667.0</td>\n",
       "    </tr>\n",
       "    <tr>\n",
       "      <th>3</th>\n",
       "      <td>600.0</td>\n",
       "      <td>2</td>\n",
       "      <td>2.0</td>\n",
       "      <td>Semi-Furnished</td>\n",
       "      <td>1.0</td>\n",
       "      <td>4200000</td>\n",
       "      <td>Ready_to_move</td>\n",
       "      <td>Resale</td>\n",
       "      <td>Builder_Floor</td>\n",
       "      <td>6667.0</td>\n",
       "    </tr>\n",
       "    <tr>\n",
       "      <th>4</th>\n",
       "      <td>650.0</td>\n",
       "      <td>2</td>\n",
       "      <td>2.0</td>\n",
       "      <td>Semi-Furnished</td>\n",
       "      <td>1.0</td>\n",
       "      <td>6200000</td>\n",
       "      <td>Ready_to_move</td>\n",
       "      <td>New_Property</td>\n",
       "      <td>Builder_Floor</td>\n",
       "      <td>6667.0</td>\n",
       "    </tr>\n",
       "    <tr>\n",
       "      <th>5</th>\n",
       "      <td>1300.0</td>\n",
       "      <td>4</td>\n",
       "      <td>3.0</td>\n",
       "      <td>Semi-Furnished</td>\n",
       "      <td>1.0</td>\n",
       "      <td>15500000</td>\n",
       "      <td>Ready_to_move</td>\n",
       "      <td>New_Property</td>\n",
       "      <td>Builder_Floor</td>\n",
       "      <td>6667.0</td>\n",
       "    </tr>\n",
       "    <tr>\n",
       "      <th>6</th>\n",
       "      <td>1350.0</td>\n",
       "      <td>4</td>\n",
       "      <td>3.0</td>\n",
       "      <td>Semi-Furnished</td>\n",
       "      <td>1.0</td>\n",
       "      <td>10000000</td>\n",
       "      <td>Ready_to_move</td>\n",
       "      <td>Resale</td>\n",
       "      <td>Builder_Floor</td>\n",
       "      <td>6667.0</td>\n",
       "    </tr>\n",
       "    <tr>\n",
       "      <th>7</th>\n",
       "      <td>650.0</td>\n",
       "      <td>2</td>\n",
       "      <td>2.0</td>\n",
       "      <td>Semi-Furnished</td>\n",
       "      <td>1.0</td>\n",
       "      <td>4000000</td>\n",
       "      <td>Ready_to_move</td>\n",
       "      <td>New_Property</td>\n",
       "      <td>Apartment</td>\n",
       "      <td>6154.0</td>\n",
       "    </tr>\n",
       "    <tr>\n",
       "      <th>8</th>\n",
       "      <td>985.0</td>\n",
       "      <td>3</td>\n",
       "      <td>3.0</td>\n",
       "      <td>Unfurnished</td>\n",
       "      <td>1.0</td>\n",
       "      <td>6800000</td>\n",
       "      <td>Almost_ready</td>\n",
       "      <td>New_Property</td>\n",
       "      <td>Builder_Floor</td>\n",
       "      <td>6154.0</td>\n",
       "    </tr>\n",
       "    <tr>\n",
       "      <th>9</th>\n",
       "      <td>1300.0</td>\n",
       "      <td>4</td>\n",
       "      <td>4.0</td>\n",
       "      <td>Semi-Furnished</td>\n",
       "      <td>1.0</td>\n",
       "      <td>15000000</td>\n",
       "      <td>Ready_to_move</td>\n",
       "      <td>New_Property</td>\n",
       "      <td>Builder_Floor</td>\n",
       "      <td>6154.0</td>\n",
       "    </tr>\n",
       "  </tbody>\n",
       "</table>\n",
       "</div>"
      ],
      "text/plain": [
       "     Area  BHK  Bathroom      Furnishing  Parking     Price         Status  \\\n",
       "0   800.0    3       2.0  Semi-Furnished      1.0   6500000  Ready_to_move   \n",
       "1   750.0    2       2.0  Semi-Furnished      1.0   5000000  Ready_to_move   \n",
       "2   950.0    2       2.0       Furnished      1.0  15500000  Ready_to_move   \n",
       "3   600.0    2       2.0  Semi-Furnished      1.0   4200000  Ready_to_move   \n",
       "4   650.0    2       2.0  Semi-Furnished      1.0   6200000  Ready_to_move   \n",
       "5  1300.0    4       3.0  Semi-Furnished      1.0  15500000  Ready_to_move   \n",
       "6  1350.0    4       3.0  Semi-Furnished      1.0  10000000  Ready_to_move   \n",
       "7   650.0    2       2.0  Semi-Furnished      1.0   4000000  Ready_to_move   \n",
       "8   985.0    3       3.0     Unfurnished      1.0   6800000   Almost_ready   \n",
       "9  1300.0    4       4.0  Semi-Furnished      1.0  15000000  Ready_to_move   \n",
       "\n",
       "    Transaction           Type  Per_Sqft  \n",
       "0  New_Property  Builder_Floor       NaN  \n",
       "1  New_Property      Apartment    6667.0  \n",
       "2        Resale      Apartment    6667.0  \n",
       "3        Resale  Builder_Floor    6667.0  \n",
       "4  New_Property  Builder_Floor    6667.0  \n",
       "5  New_Property  Builder_Floor    6667.0  \n",
       "6        Resale  Builder_Floor    6667.0  \n",
       "7  New_Property      Apartment    6154.0  \n",
       "8  New_Property  Builder_Floor    6154.0  \n",
       "9  New_Property  Builder_Floor    6154.0  "
      ]
     },
     "execution_count": 7,
     "metadata": {},
     "output_type": "execute_result"
    }
   ],
   "source": [
    "df.head(10)"
   ]
  },
  {
   "cell_type": "code",
   "execution_count": 8,
   "id": "5b3721fd-e051-43ce-9a3c-2feed5542530",
   "metadata": {},
   "outputs": [
    {
     "data": {
      "text/html": [
       "<div>\n",
       "<style scoped>\n",
       "    .dataframe tbody tr th:only-of-type {\n",
       "        vertical-align: middle;\n",
       "    }\n",
       "\n",
       "    .dataframe tbody tr th {\n",
       "        vertical-align: top;\n",
       "    }\n",
       "\n",
       "    .dataframe thead th {\n",
       "        text-align: right;\n",
       "    }\n",
       "</style>\n",
       "<table border=\"1\" class=\"dataframe\">\n",
       "  <thead>\n",
       "    <tr style=\"text-align: right;\">\n",
       "      <th></th>\n",
       "      <th>Area</th>\n",
       "      <th>BHK</th>\n",
       "      <th>Bathroom</th>\n",
       "      <th>Furnishing</th>\n",
       "      <th>Parking</th>\n",
       "      <th>Price</th>\n",
       "      <th>Status</th>\n",
       "      <th>Transaction</th>\n",
       "      <th>Type</th>\n",
       "      <th>Per_Sqft</th>\n",
       "    </tr>\n",
       "  </thead>\n",
       "  <tbody>\n",
       "    <tr>\n",
       "      <th>1249</th>\n",
       "      <td>1900.0</td>\n",
       "      <td>3</td>\n",
       "      <td>4.0</td>\n",
       "      <td>Semi-Furnished</td>\n",
       "      <td>2.0</td>\n",
       "      <td>28500000</td>\n",
       "      <td>Ready_to_move</td>\n",
       "      <td>New_Property</td>\n",
       "      <td>Builder_Floor</td>\n",
       "      <td>6878.0</td>\n",
       "    </tr>\n",
       "    <tr>\n",
       "      <th>1250</th>\n",
       "      <td>1800.0</td>\n",
       "      <td>3</td>\n",
       "      <td>3.0</td>\n",
       "      <td>Semi-Furnished</td>\n",
       "      <td>2.0</td>\n",
       "      <td>29000000</td>\n",
       "      <td>Ready_to_move</td>\n",
       "      <td>Resale</td>\n",
       "      <td>Builder_Floor</td>\n",
       "      <td>6878.0</td>\n",
       "    </tr>\n",
       "    <tr>\n",
       "      <th>1251</th>\n",
       "      <td>1200.0</td>\n",
       "      <td>3</td>\n",
       "      <td>2.0</td>\n",
       "      <td>Semi-Furnished</td>\n",
       "      <td>1.0</td>\n",
       "      <td>15500000</td>\n",
       "      <td>Ready_to_move</td>\n",
       "      <td>Resale</td>\n",
       "      <td>Builder_Floor</td>\n",
       "      <td>12916.0</td>\n",
       "    </tr>\n",
       "    <tr>\n",
       "      <th>1252</th>\n",
       "      <td>1800.0</td>\n",
       "      <td>3</td>\n",
       "      <td>3.0</td>\n",
       "      <td>Semi-Furnished</td>\n",
       "      <td>1.0</td>\n",
       "      <td>26000000</td>\n",
       "      <td>Ready_to_move</td>\n",
       "      <td>Resale</td>\n",
       "      <td>Builder_Floor</td>\n",
       "      <td>12916.0</td>\n",
       "    </tr>\n",
       "    <tr>\n",
       "      <th>1253</th>\n",
       "      <td>1200.0</td>\n",
       "      <td>3</td>\n",
       "      <td>3.0</td>\n",
       "      <td>Semi-Furnished</td>\n",
       "      <td>1.0</td>\n",
       "      <td>16500000</td>\n",
       "      <td>Ready_to_move</td>\n",
       "      <td>Resale</td>\n",
       "      <td>Builder_Floor</td>\n",
       "      <td>12916.0</td>\n",
       "    </tr>\n",
       "    <tr>\n",
       "      <th>1254</th>\n",
       "      <td>4118.0</td>\n",
       "      <td>4</td>\n",
       "      <td>5.0</td>\n",
       "      <td>Unfurnished</td>\n",
       "      <td>3.0</td>\n",
       "      <td>55000000</td>\n",
       "      <td>Ready_to_move</td>\n",
       "      <td>New_Property</td>\n",
       "      <td>Builder_Floor</td>\n",
       "      <td>12916.0</td>\n",
       "    </tr>\n",
       "    <tr>\n",
       "      <th>1255</th>\n",
       "      <td>1050.0</td>\n",
       "      <td>3</td>\n",
       "      <td>2.0</td>\n",
       "      <td>Semi-Furnished</td>\n",
       "      <td>3.0</td>\n",
       "      <td>12500000</td>\n",
       "      <td>Ready_to_move</td>\n",
       "      <td>Resale</td>\n",
       "      <td>Builder_Floor</td>\n",
       "      <td>12916.0</td>\n",
       "    </tr>\n",
       "    <tr>\n",
       "      <th>1256</th>\n",
       "      <td>875.0</td>\n",
       "      <td>3</td>\n",
       "      <td>3.0</td>\n",
       "      <td>Semi-Furnished</td>\n",
       "      <td>3.0</td>\n",
       "      <td>17500000</td>\n",
       "      <td>Ready_to_move</td>\n",
       "      <td>New_Property</td>\n",
       "      <td>Builder_Floor</td>\n",
       "      <td>12916.0</td>\n",
       "    </tr>\n",
       "    <tr>\n",
       "      <th>1257</th>\n",
       "      <td>990.0</td>\n",
       "      <td>2</td>\n",
       "      <td>2.0</td>\n",
       "      <td>Unfurnished</td>\n",
       "      <td>1.0</td>\n",
       "      <td>11500000</td>\n",
       "      <td>Ready_to_move</td>\n",
       "      <td>Resale</td>\n",
       "      <td>Builder_Floor</td>\n",
       "      <td>12916.0</td>\n",
       "    </tr>\n",
       "    <tr>\n",
       "      <th>1258</th>\n",
       "      <td>11050.0</td>\n",
       "      <td>3</td>\n",
       "      <td>3.0</td>\n",
       "      <td>Unfurnished</td>\n",
       "      <td>1.0</td>\n",
       "      <td>18500000</td>\n",
       "      <td>Ready_to_move</td>\n",
       "      <td>New_Property</td>\n",
       "      <td>Builder_Floor</td>\n",
       "      <td>12916.0</td>\n",
       "    </tr>\n",
       "  </tbody>\n",
       "</table>\n",
       "</div>"
      ],
      "text/plain": [
       "         Area  BHK  Bathroom      Furnishing  Parking     Price  \\\n",
       "1249   1900.0    3       4.0  Semi-Furnished      2.0  28500000   \n",
       "1250   1800.0    3       3.0  Semi-Furnished      2.0  29000000   \n",
       "1251   1200.0    3       2.0  Semi-Furnished      1.0  15500000   \n",
       "1252   1800.0    3       3.0  Semi-Furnished      1.0  26000000   \n",
       "1253   1200.0    3       3.0  Semi-Furnished      1.0  16500000   \n",
       "1254   4118.0    4       5.0     Unfurnished      3.0  55000000   \n",
       "1255   1050.0    3       2.0  Semi-Furnished      3.0  12500000   \n",
       "1256    875.0    3       3.0  Semi-Furnished      3.0  17500000   \n",
       "1257    990.0    2       2.0     Unfurnished      1.0  11500000   \n",
       "1258  11050.0    3       3.0     Unfurnished      1.0  18500000   \n",
       "\n",
       "             Status   Transaction           Type  Per_Sqft  \n",
       "1249  Ready_to_move  New_Property  Builder_Floor    6878.0  \n",
       "1250  Ready_to_move        Resale  Builder_Floor    6878.0  \n",
       "1251  Ready_to_move        Resale  Builder_Floor   12916.0  \n",
       "1252  Ready_to_move        Resale  Builder_Floor   12916.0  \n",
       "1253  Ready_to_move        Resale  Builder_Floor   12916.0  \n",
       "1254  Ready_to_move  New_Property  Builder_Floor   12916.0  \n",
       "1255  Ready_to_move        Resale  Builder_Floor   12916.0  \n",
       "1256  Ready_to_move  New_Property  Builder_Floor   12916.0  \n",
       "1257  Ready_to_move        Resale  Builder_Floor   12916.0  \n",
       "1258  Ready_to_move  New_Property  Builder_Floor   12916.0  "
      ]
     },
     "execution_count": 8,
     "metadata": {},
     "output_type": "execute_result"
    }
   ],
   "source": [
    "df.tail(10)"
   ]
  },
  {
   "cell_type": "markdown",
   "id": "ae2a2f29-0840-4503-8c1d-969172c82d86",
   "metadata": {},
   "source": [
    "# different sections in the dataset"
   ]
  },
  {
   "cell_type": "code",
   "execution_count": 9,
   "id": "557dccdd-6448-4df5-ad86-27988cc67d75",
   "metadata": {},
   "outputs": [
    {
     "data": {
      "text/plain": [
       "Index(['Area', 'BHK', 'Bathroom', 'Furnishing', 'Parking', 'Price', 'Status',\n",
       "       'Transaction', 'Type', 'Per_Sqft'],\n",
       "      dtype='object')"
      ]
     },
     "execution_count": 9,
     "metadata": {},
     "output_type": "execute_result"
    }
   ],
   "source": [
    "df.columns"
   ]
  },
  {
   "cell_type": "markdown",
   "id": "5f49c3c8-886b-47d1-8977-d5ca1aca3191",
   "metadata": {},
   "source": [
    "# shape of the dataset"
   ]
  },
  {
   "cell_type": "code",
   "execution_count": 10,
   "id": "53d54611-cf73-4aad-ac73-63ad46ba34fb",
   "metadata": {},
   "outputs": [
    {
     "data": {
      "text/plain": [
       "(1259, 10)"
      ]
     },
     "execution_count": 10,
     "metadata": {},
     "output_type": "execute_result"
    }
   ],
   "source": [
    "df.shape"
   ]
  },
  {
   "cell_type": "markdown",
   "id": "a3cc9ecd-bbe1-4b87-9051-b500e8b0f442",
   "metadata": {},
   "source": [
    "# datatype of the columns of the dataset"
   ]
  },
  {
   "cell_type": "code",
   "execution_count": 11,
   "id": "90dee10e-42a7-41c9-b485-005e11cdee6a",
   "metadata": {},
   "outputs": [
    {
     "name": "stdout",
     "output_type": "stream",
     "text": [
      "<class 'pandas.core.frame.DataFrame'>\n",
      "RangeIndex: 1259 entries, 0 to 1258\n",
      "Data columns (total 10 columns):\n",
      " #   Column       Non-Null Count  Dtype  \n",
      "---  ------       --------------  -----  \n",
      " 0   Area         1259 non-null   float64\n",
      " 1   BHK          1259 non-null   int64  \n",
      " 2   Bathroom     1257 non-null   float64\n",
      " 3   Furnishing   1254 non-null   object \n",
      " 4   Parking      1226 non-null   float64\n",
      " 5   Price        1259 non-null   int64  \n",
      " 6   Status       1259 non-null   object \n",
      " 7   Transaction  1259 non-null   object \n",
      " 8   Type         1254 non-null   object \n",
      " 9   Per_Sqft     1018 non-null   float64\n",
      "dtypes: float64(4), int64(2), object(4)\n",
      "memory usage: 98.5+ KB\n"
     ]
    }
   ],
   "source": [
    "df.info()"
   ]
  },
  {
   "cell_type": "markdown",
   "id": "20c86484-54e4-49e6-b0f4-355832172990",
   "metadata": {},
   "source": [
    "# checking for the null values"
   ]
  },
  {
   "cell_type": "code",
   "execution_count": 12,
   "id": "78cf9795-ddbb-47c7-b28e-aac43804b501",
   "metadata": {},
   "outputs": [
    {
     "data": {
      "text/plain": [
       "Area             0\n",
       "BHK              0\n",
       "Bathroom         2\n",
       "Furnishing       5\n",
       "Parking         33\n",
       "Price            0\n",
       "Status           0\n",
       "Transaction      0\n",
       "Type             5\n",
       "Per_Sqft       241\n",
       "dtype: int64"
      ]
     },
     "execution_count": 12,
     "metadata": {},
     "output_type": "execute_result"
    }
   ],
   "source": [
    "df.isnull().sum()"
   ]
  },
  {
   "cell_type": "markdown",
   "id": "c09788d0-cade-41d4-9ef3-bac045c529d8",
   "metadata": {},
   "source": [
    "# removing null values"
   ]
  },
  {
   "cell_type": "code",
   "execution_count": 13,
   "id": "f6130022-7774-4b00-a7f0-3b48f9a32b90",
   "metadata": {},
   "outputs": [],
   "source": [
    "df[\"Parking\"].fillna(0, inplace = True)"
   ]
  },
  {
   "cell_type": "code",
   "execution_count": 14,
   "id": "8ea9f734-7ab1-4a9a-89a6-4bbb8129f943",
   "metadata": {},
   "outputs": [],
   "source": [
    "df[\"Bathroom\"].fillna(1,inplace = True)"
   ]
  },
  {
   "cell_type": "code",
   "execution_count": 15,
   "id": "69af1d31-a456-49f4-bd8c-1778c91d0de9",
   "metadata": {},
   "outputs": [],
   "source": [
    "df[\"Furnishing\"].fillna(\"Unfurnished\",inplace = True)"
   ]
  },
  {
   "cell_type": "code",
   "execution_count": 16,
   "id": "90fed6e5-0258-4b17-8c10-ee6ccdebab8a",
   "metadata": {},
   "outputs": [],
   "source": [
    "df[\"Per_Sqft\"].fillna(np.nanmean(df[\"Per_Sqft\"]),inplace = True)"
   ]
  },
  {
   "cell_type": "code",
   "execution_count": 17,
   "id": "6a3f786a-86b1-4b09-9a1e-f6875a855123",
   "metadata": {},
   "outputs": [],
   "source": [
    "df.dropna(inplace = True)"
   ]
  },
  {
   "cell_type": "markdown",
   "id": "a67d1844-6b46-4431-b6e4-7b3f734d49c5",
   "metadata": {},
   "source": [
    "# checking null values"
   ]
  },
  {
   "cell_type": "code",
   "execution_count": 18,
   "id": "7132189e-d020-430e-a738-adc4d8e5e5bc",
   "metadata": {},
   "outputs": [
    {
     "data": {
      "text/plain": [
       "Area           0\n",
       "BHK            0\n",
       "Bathroom       0\n",
       "Furnishing     0\n",
       "Parking        0\n",
       "Price          0\n",
       "Status         0\n",
       "Transaction    0\n",
       "Type           0\n",
       "Per_Sqft       0\n",
       "dtype: int64"
      ]
     },
     "execution_count": 18,
     "metadata": {},
     "output_type": "execute_result"
    }
   ],
   "source": [
    "df.isnull().sum()"
   ]
  },
  {
   "cell_type": "markdown",
   "id": "982a4e2c-41df-49ed-aa23-ccf6f9059b9e",
   "metadata": {},
   "source": [
    "# checking duplicate values"
   ]
  },
  {
   "cell_type": "code",
   "execution_count": 19,
   "id": "07998429-9d32-4afd-bcf8-ad2a69ef6014",
   "metadata": {},
   "outputs": [
    {
     "name": "stdout",
     "output_type": "stream",
     "text": [
      "\n",
      "\u001b[1mInference:\u001b[0m Number of duplicates dropped/fixed ---> 83\n"
     ]
    }
   ],
   "source": [
    "\n",
    "# counter = 0\n",
    "rs,cs = df.shape\n",
    "\n",
    "df.drop_duplicates(inplace=True)\n",
    "\n",
    "if df.shape==(rs,cs):\n",
    "    print('\\n\\033[1mInference:\\033[0m The dataset doesn\\'t have any duplicates')\n",
    "else:\n",
    "    print(f'\\n\\033[1mInference:\\033[0m Number of duplicates dropped/fixed ---> {rs-df.shape[0]}')\n"
   ]
  },
  {
   "cell_type": "markdown",
   "id": "e16c97bb-db65-4d95-bbcd-4c532aa3677d",
   "metadata": {},
   "source": [
    "# convertin categorical data columns to numerical data"
   ]
  },
  {
   "cell_type": "code",
   "execution_count": 20,
   "id": "d4b7cd9c-3f97-45c3-98f6-14693287fc87",
   "metadata": {},
   "outputs": [],
   "source": [
    "from sklearn.preprocessing import LabelEncoder\n",
    "categ = [\"Furnishing\",\"Status\",\"Transaction\",\"Type\"]\n",
    "\n",
    "# Encode Categorical Columns\n",
    "le = LabelEncoder()\n",
    "df[categ] = df[categ].apply(le.fit_transform)"
   ]
  },
  {
   "cell_type": "code",
   "execution_count": 21,
   "id": "03e2db61-3917-430c-a6c9-6387e7cc4a66",
   "metadata": {},
   "outputs": [
    {
     "data": {
      "text/html": [
       "<div>\n",
       "<style scoped>\n",
       "    .dataframe tbody tr th:only-of-type {\n",
       "        vertical-align: middle;\n",
       "    }\n",
       "\n",
       "    .dataframe tbody tr th {\n",
       "        vertical-align: top;\n",
       "    }\n",
       "\n",
       "    .dataframe thead th {\n",
       "        text-align: right;\n",
       "    }\n",
       "</style>\n",
       "<table border=\"1\" class=\"dataframe\">\n",
       "  <thead>\n",
       "    <tr style=\"text-align: right;\">\n",
       "      <th></th>\n",
       "      <th>Area</th>\n",
       "      <th>BHK</th>\n",
       "      <th>Bathroom</th>\n",
       "      <th>Furnishing</th>\n",
       "      <th>Parking</th>\n",
       "      <th>Price</th>\n",
       "      <th>Status</th>\n",
       "      <th>Transaction</th>\n",
       "      <th>Type</th>\n",
       "      <th>Per_Sqft</th>\n",
       "    </tr>\n",
       "  </thead>\n",
       "  <tbody>\n",
       "    <tr>\n",
       "      <th>0</th>\n",
       "      <td>800.0</td>\n",
       "      <td>3</td>\n",
       "      <td>2.0</td>\n",
       "      <td>1</td>\n",
       "      <td>1.0</td>\n",
       "      <td>6500000</td>\n",
       "      <td>1</td>\n",
       "      <td>0</td>\n",
       "      <td>1</td>\n",
       "      <td>15690.136542</td>\n",
       "    </tr>\n",
       "    <tr>\n",
       "      <th>1</th>\n",
       "      <td>750.0</td>\n",
       "      <td>2</td>\n",
       "      <td>2.0</td>\n",
       "      <td>1</td>\n",
       "      <td>1.0</td>\n",
       "      <td>5000000</td>\n",
       "      <td>1</td>\n",
       "      <td>0</td>\n",
       "      <td>0</td>\n",
       "      <td>6667.000000</td>\n",
       "    </tr>\n",
       "    <tr>\n",
       "      <th>2</th>\n",
       "      <td>950.0</td>\n",
       "      <td>2</td>\n",
       "      <td>2.0</td>\n",
       "      <td>0</td>\n",
       "      <td>1.0</td>\n",
       "      <td>15500000</td>\n",
       "      <td>1</td>\n",
       "      <td>1</td>\n",
       "      <td>0</td>\n",
       "      <td>6667.000000</td>\n",
       "    </tr>\n",
       "    <tr>\n",
       "      <th>3</th>\n",
       "      <td>600.0</td>\n",
       "      <td>2</td>\n",
       "      <td>2.0</td>\n",
       "      <td>1</td>\n",
       "      <td>1.0</td>\n",
       "      <td>4200000</td>\n",
       "      <td>1</td>\n",
       "      <td>1</td>\n",
       "      <td>1</td>\n",
       "      <td>6667.000000</td>\n",
       "    </tr>\n",
       "    <tr>\n",
       "      <th>4</th>\n",
       "      <td>650.0</td>\n",
       "      <td>2</td>\n",
       "      <td>2.0</td>\n",
       "      <td>1</td>\n",
       "      <td>1.0</td>\n",
       "      <td>6200000</td>\n",
       "      <td>1</td>\n",
       "      <td>0</td>\n",
       "      <td>1</td>\n",
       "      <td>6667.000000</td>\n",
       "    </tr>\n",
       "    <tr>\n",
       "      <th>5</th>\n",
       "      <td>1300.0</td>\n",
       "      <td>4</td>\n",
       "      <td>3.0</td>\n",
       "      <td>1</td>\n",
       "      <td>1.0</td>\n",
       "      <td>15500000</td>\n",
       "      <td>1</td>\n",
       "      <td>0</td>\n",
       "      <td>1</td>\n",
       "      <td>6667.000000</td>\n",
       "    </tr>\n",
       "    <tr>\n",
       "      <th>6</th>\n",
       "      <td>1350.0</td>\n",
       "      <td>4</td>\n",
       "      <td>3.0</td>\n",
       "      <td>1</td>\n",
       "      <td>1.0</td>\n",
       "      <td>10000000</td>\n",
       "      <td>1</td>\n",
       "      <td>1</td>\n",
       "      <td>1</td>\n",
       "      <td>6667.000000</td>\n",
       "    </tr>\n",
       "    <tr>\n",
       "      <th>7</th>\n",
       "      <td>650.0</td>\n",
       "      <td>2</td>\n",
       "      <td>2.0</td>\n",
       "      <td>1</td>\n",
       "      <td>1.0</td>\n",
       "      <td>4000000</td>\n",
       "      <td>1</td>\n",
       "      <td>0</td>\n",
       "      <td>0</td>\n",
       "      <td>6154.000000</td>\n",
       "    </tr>\n",
       "    <tr>\n",
       "      <th>8</th>\n",
       "      <td>985.0</td>\n",
       "      <td>3</td>\n",
       "      <td>3.0</td>\n",
       "      <td>2</td>\n",
       "      <td>1.0</td>\n",
       "      <td>6800000</td>\n",
       "      <td>0</td>\n",
       "      <td>0</td>\n",
       "      <td>1</td>\n",
       "      <td>6154.000000</td>\n",
       "    </tr>\n",
       "    <tr>\n",
       "      <th>9</th>\n",
       "      <td>1300.0</td>\n",
       "      <td>4</td>\n",
       "      <td>4.0</td>\n",
       "      <td>1</td>\n",
       "      <td>1.0</td>\n",
       "      <td>15000000</td>\n",
       "      <td>1</td>\n",
       "      <td>0</td>\n",
       "      <td>1</td>\n",
       "      <td>6154.000000</td>\n",
       "    </tr>\n",
       "  </tbody>\n",
       "</table>\n",
       "</div>"
      ],
      "text/plain": [
       "     Area  BHK  Bathroom  Furnishing  Parking     Price  Status  Transaction  \\\n",
       "0   800.0    3       2.0           1      1.0   6500000       1            0   \n",
       "1   750.0    2       2.0           1      1.0   5000000       1            0   \n",
       "2   950.0    2       2.0           0      1.0  15500000       1            1   \n",
       "3   600.0    2       2.0           1      1.0   4200000       1            1   \n",
       "4   650.0    2       2.0           1      1.0   6200000       1            0   \n",
       "5  1300.0    4       3.0           1      1.0  15500000       1            0   \n",
       "6  1350.0    4       3.0           1      1.0  10000000       1            1   \n",
       "7   650.0    2       2.0           1      1.0   4000000       1            0   \n",
       "8   985.0    3       3.0           2      1.0   6800000       0            0   \n",
       "9  1300.0    4       4.0           1      1.0  15000000       1            0   \n",
       "\n",
       "   Type      Per_Sqft  \n",
       "0     1  15690.136542  \n",
       "1     0   6667.000000  \n",
       "2     0   6667.000000  \n",
       "3     1   6667.000000  \n",
       "4     1   6667.000000  \n",
       "5     1   6667.000000  \n",
       "6     1   6667.000000  \n",
       "7     0   6154.000000  \n",
       "8     1   6154.000000  \n",
       "9     1   6154.000000  "
      ]
     },
     "execution_count": 21,
     "metadata": {},
     "output_type": "execute_result"
    }
   ],
   "source": [
    "df.head(10)"
   ]
  },
  {
   "cell_type": "code",
   "execution_count": 22,
   "id": "681c4a0b-36ff-40b7-9550-9270c9dcc525",
   "metadata": {},
   "outputs": [
    {
     "data": {
      "text/plain": [
       "<AxesSubplot:>"
      ]
     },
     "execution_count": 22,
     "metadata": {},
     "output_type": "execute_result"
    },
    {
     "data": {
      "image/png": "[encoded data removed]",
      "text/plain": [
       "<Figure size 1200x700 with 2 Axes>"
      ]
     },
     "metadata": {},
     "output_type": "display_data"
    }
   ],
   "source": [
    "# CORRELATION BETWEEN THE COLUMNS\n",
    "\n",
    "corr = df.corr()\n",
    "plt.figure(figsize=(12,7))\n",
    "sns.heatmap(corr,cmap='coolwarm',annot=True)"
   ]
  },
  {
   "cell_type": "code",
   "execution_count": 23,
   "id": "9870417e-cfeb-4395-8ecb-bfefdd1916a3",
   "metadata": {},
   "outputs": [
    {
     "data": {
      "text/plain": [
       "<matplotlib.collections.PathCollection at 0x20022531fd0>"
      ]
     },
     "execution_count": 23,
     "metadata": {},
     "output_type": "execute_result"
    },
    {
     "data": {
      "image/png": "[encoded data removed]",
      "text/plain": [
       "<Figure size 1400x700 with 1 Axes>"
      ]
     },
     "metadata": {},
     "output_type": "display_data"
    }
   ],
   "source": [
    "df.drop(df[df['Area'] > 4000].index, inplace = True)\n",
    "plt.figure(figsize=(14,7))\n",
    "plt.xlabel('Area')\n",
    "plt.ylabel('Price')\n",
    "plt.scatter(df.Area,df.Price)\n",
    "\n"
   ]
  },
  {
   "cell_type": "code",
   "execution_count": 24,
   "id": "dc7b4907-dc89-4103-9651-2d35e548a7c7",
   "metadata": {},
   "outputs": [],
   "source": [
    "X=np.array(df[['Area','BHK','Bathroom','Furnishing','Parking']])\n",
    "Y=np.array(df.Price)"
   ]
  },
  {
   "cell_type": "code",
   "execution_count": 25,
   "id": "ce7a8f50-4e4c-4ecb-88b2-cb22c70cc480",
   "metadata": {},
   "outputs": [
    {
     "data": {
      "text/plain": [
       "array([[8.00e+02, 3.00e+00, 2.00e+00, 1.00e+00, 1.00e+00],\n",
       "       [7.50e+02, 2.00e+00, 2.00e+00, 1.00e+00, 1.00e+00],\n",
       "       [9.50e+02, 2.00e+00, 2.00e+00, 0.00e+00, 1.00e+00],\n",
       "       ...,\n",
       "       [1.05e+03, 3.00e+00, 2.00e+00, 1.00e+00, 3.00e+00],\n",
       "       [8.75e+02, 3.00e+00, 3.00e+00, 1.00e+00, 3.00e+00],\n",
       "       [9.90e+02, 2.00e+00, 2.00e+00, 2.00e+00, 1.00e+00]])"
      ]
     },
     "execution_count": 25,
     "metadata": {},
     "output_type": "execute_result"
    }
   ],
   "source": [
    "X"
   ]
  },
  {
   "cell_type": "code",
   "execution_count": 26,
   "id": "6d622e1c-d017-4d4f-944b-1303cfa9797b",
   "metadata": {},
   "outputs": [
    {
     "data": {
      "text/plain": [
       "array([ 6500000,  5000000, 15500000, ..., 12500000, 17500000, 11500000],\n",
       "      dtype=int64)"
      ]
     },
     "execution_count": 26,
     "metadata": {},
     "output_type": "execute_result"
    }
   ],
   "source": [
    "Y"
   ]
  },
  {
   "cell_type": "code",
   "execution_count": 27,
   "id": "9f13a82b-daf9-45d5-bea6-d85be2b6f422",
   "metadata": {},
   "outputs": [],
   "source": [
    "from sklearn.model_selection import train_test_split\n",
    "X_train, X_test, Y_train, Y_test = train_test_split(X, Y, test_size=0.3,random_state=42)"
   ]
  },
  {
   "cell_type": "code",
   "execution_count": 28,
   "id": "75940e18-7423-4b53-ab8f-49313a0d3130",
   "metadata": {},
   "outputs": [],
   "source": [
    "from sklearn.linear_model import LinearRegression\n",
    "model = LinearRegression()"
   ]
  },
  {
   "cell_type": "code",
   "execution_count": 29,
   "id": "54fe2248-c5ec-44ba-9872-d8c062e6ab6f",
   "metadata": {},
   "outputs": [
    {
     "data": {
      "text/plain": [
       "LinearRegression()"
      ]
     },
     "execution_count": 29,
     "metadata": {},
     "output_type": "execute_result"
    }
   ],
   "source": [
    "model.fit(X_train,Y_train)"
   ]
  },
  {
   "cell_type": "code",
   "execution_count": 30,
   "id": "dabca4b1-78c8-43b9-8f22-1d2378cda47c",
   "metadata": {},
   "outputs": [],
   "source": [
    "Y_predict = model.predict(X_test)"
   ]
  },
  {
   "cell_type": "code",
   "execution_count": 31,
   "id": "f9eb783d-7f15-464f-80bd-3e5c8364b8e8",
   "metadata": {},
   "outputs": [
    {
     "data": {
      "text/plain": [
       "array([  6450376.59525328,  23108259.50857815,  16298309.13248205,\n",
       "        46636842.37653288,  10531490.0809399 ,  28166801.77626307,\n",
       "        28662676.7782692 ,  10459225.19140154,  20940312.82242748,\n",
       "         9345365.06355147,   5790913.32722374,  12665157.09555189,\n",
       "        19929631.26738715,   8752873.8357183 ,  14423814.89124875,\n",
       "        12682446.40274519,  35034644.9303712 ,  13387805.99093545,\n",
       "        16298309.13248205,  34663341.25791706,  48062232.60728763,\n",
       "         9051912.61863409,   9756483.85603034,   4326688.80540365,\n",
       "         9578493.50161164,   6845980.71448374,  37945148.0719178 ,\n",
       "        19904303.92211417,   4884849.47218576,  23459604.73150757,\n",
       "        28518146.99919249,  33407859.04102437,   9051912.61863409,\n",
       "        18734380.91827713,  19893475.95141253,  11181874.0867851 ,\n",
       "        24573464.85935763,  21827399.0569001 ,  -8188694.92003665,\n",
       "        16298309.13248205,  12521527.27905321,  -2974794.57544699,\n",
       "        13782773.59111118,   4605769.13879471,  -1838463.90284566,\n",
       "        15555752.67708613,   5739421.16343172,  30706052.1348679 ,\n",
       "         -465431.0016169 ,  -2131916.34776304,   9051912.61863409,\n",
       "        30372733.68041341,   4678034.02833306,   5400682.92371662,\n",
       "        -1081976.62237598,  36479942.72113831,  55393420.12750691,\n",
       "         9736576.29601798,  65751696.73731779,   7957960.05079638,\n",
       "        10135885.96170943,  14072469.66831934,  11553126.86972687,\n",
       "        20634202.5047834 ,  38629811.74930169,   7751144.60694368,\n",
       "          407334.01084179,  19168997.15400392,  34663341.25791706,\n",
       "        67011819.26009357,  20217663.92704391,   7159340.71941349,\n",
       "         4798263.36063346,  29300569.4641255 ,  22756863.39613636,\n",
       "        -2503220.02021719,  65027252.73675326,   8291278.50525086,\n",
       "        -1746240.56378257,  10087921.51894739,  11143888.86878543,\n",
       "        10087921.51894739,   8291278.50525086,  13701165.99586519,\n",
       "        11942508.20016833,  20672955.92946739,  15159121.659359  ,\n",
       "        10497210.40940121,  -2189809.12577507,  -1925050.01439796,\n",
       "        12978517.10048163,   -744511.33500795,  -3308062.1403891 ,\n",
       "        11533219.30971451,  26721503.98549595,   6980531.26879809,\n",
       "        39491616.70803861,  -2874472.80315896,  10288389.01899453,\n",
       "         7317555.26971355,  11181874.0867851 ,  11942508.20016833,\n",
       "        10497210.40940121,  -1222359.56853914,  11591162.97723892,\n",
       "         6450376.59525328,  22425425.73321931,  14853011.34171493,\n",
       "        19522223.16847077,  -2045279.34669836,  27444152.8808795 ,\n",
       "        26504709.31688088,  18049717.24089323,  22014306.94074045,\n",
       "        -6174357.27514702,   9702296.62447929,  -3456738.75237936,\n",
       "         7279570.05171388,  11181874.0867851 ,  27092756.76843772,\n",
       "         3259944.37437636,  56004120.76922111,   7197325.93741315,\n",
       "        -1075948.997925  ,  15984949.1275523 ,  14795118.5637029 ,\n",
       "        33283236.82196001,   8291278.50525086,  23108259.50857815,\n",
       "        15927056.34954027,  32502695.14856442,  11962415.76018069,\n",
       "        18075044.58616621,   7919974.83279671,  13387805.99093545,\n",
       "        13701165.99586519,  41558392.54883559,  -3036231.49428371,\n",
       "         9013927.40063442, -10203032.5649263 ,  10971595.69561545,\n",
       "        25998855.09011238,  12195438.33092776,  12978517.10048163,\n",
       "        27130792.87594977,  26741411.54550831,  11533219.30971451,\n",
       "        40835743.65345204,  23792923.18596205,  59644522.49343695,\n",
       "        34463826.39086241,  29963444.78995961,  -1404874.56561552,\n",
       "        10107879.96847213,  14641590.3888232 ,  23108259.50857815,\n",
       "        16982972.80986594,  41520407.33083592,  53105375.86494955,\n",
       "        19514922.59167271,   7895674.3860204 ,  14112284.78834406,\n",
       "        16233115.77767197,  11219859.30478477,  29592192.00701783,\n",
       "        36090561.39069687,  40855651.21346439,  34329224.94703569,\n",
       "         -413073.6720909 ,  29632007.12704254,  28530804.87191917,\n",
       "        -2874472.80315896,  34379383.45038138,  26721503.98549595,\n",
       "        40835743.65345204,  32873947.9315062 ,  29250775.1193384 ,\n",
       "        -1115815.0074621 ,   6677150.48863071,  22405518.17320695,\n",
       "        28371054.23537686,  14762553.13096385,  10850436.42386805,\n",
       "        23108259.50857815,  20237571.48705627,  -1467160.23039151,\n",
       "         1667209.11449843,  55991462.89649442,  32840568.22254555,\n",
       "         7606614.82786697,  14072469.66831934,   6845980.71448374,\n",
       "        28889450.67164663,  -1394895.34085315,  51610283.72939536,\n",
       "         8291278.50525086,  10125906.73694706,  10001335.40739508,\n",
       "        11181874.0867851 ,  13349820.77293578,  30223598.39229768,\n",
       "        19846360.25458976,    907601.89961187,  15184449.00463198,\n",
       "        11571204.52771418,  24192232.85165349,   9302986.95878784,\n",
       "        24760372.74319797,  58547713.12507753,  27808155.9765356 ,\n",
       "        17290110.02600667,   7100760.60109848,  11181874.0867851 ,\n",
       "        -1693934.12376894,  10839476.37014629,  23868893.62196138,\n",
       "         8710414.86457333,  54189349.2080249 ,  15204407.45415672,\n",
       "        13177268.58082705,  12833987.32140492,  -3195700.91072437,\n",
       "          738771.67375884,   9447516.73786456,  20614294.94477105,\n",
       "        26721503.98549595,  15286519.81256372,   7279570.05171388,\n",
       "         7751144.60694368,  34625356.03991738,  35054552.49038357,\n",
       "        59979538.76689637,  11533219.30971451,   9641789.97221598,\n",
       "        25006073.36762838,   4808110.8295021 ,   6123331.81910018,\n",
       "         7967939.27555875,  28538054.55920484,  36135847.18549459,\n",
       "        15869112.68201587,  18075044.58616621,  24683634.10051431,\n",
       "        -2151823.9077754 ,  22405518.17320695,  15186329.79616941,\n",
       "        15368763.92686444,  12439283.16475249,  12293853.42309774,\n",
       "        15517767.45908646,  33967900.4993439 ,  10087921.51894739,\n",
       "        46225723.58405401,  14423814.89124875,  11181874.0867851 ,\n",
       "        11553177.75923925,  20978298.04042714,  19866267.81460213,\n",
       "        20378441.78920928,  14867383.45324125,  20614294.94477105,\n",
       "        20978298.04042714,  -3430005.71148913,   9051912.61863409,\n",
       "        -3474457.17472217,   9774561.51401765,  48062232.60728763,\n",
       "        31057397.35779731,  20608875.15951042,   7901948.06432178,\n",
       "        37925240.51190543,  -2445357.21907413,  48055831.99306762,\n",
       "        19143669.80873094,  10193319.86033909,  11201781.64679746,\n",
       "        27835364.11334602,  25276206.19472883,  17020958.02786561,\n",
       "        10459225.19140154,  26360179.53780417,  30402620.46518814,\n",
       "        -3346047.35838876,  -4357755.81192575,  26388185.53104147,\n",
       "         7452105.82402789,  11181874.0867851 ,  22366667.46234691,\n",
       "        23479512.29151992,  26056747.86812442,  28142369.57359303,\n",
       "         7621067.80577464,  -1429175.01239184,  -2189809.12577507,\n",
       "        17929487.90859284,   7548722.04985494,   8700567.39570468,\n",
       "        19223184.38555497,  20217663.92704391,  40138472.99285384,\n",
       "         2926625.91992188,  19636930.93648578,  28311331.55533978,\n",
       "        -1095856.55793736,   -706526.11700828,  23850815.96397407,\n",
       "        12502549.65848787,  12627171.87755222,   7000438.82881045,\n",
       "        21869777.16166373,   7279570.05171388,  16126571.21659492,\n",
       "        14022790.98675766,  23850815.96397407,  15146463.78663231,\n",
       "        23128167.06859051,  18446348.25862036,  -1043550.11792374,\n",
       "         6980531.26879809,  11553126.86972687,  20217663.92704391,\n",
       "        15146463.78663231,  15517767.45908646,  54540745.32046668,\n",
       "        11832258.0926303 ,   9013927.40063442,  16629746.7953991 ,\n",
       "        22385610.6131946 ,  19669431.59551179,  19395720.15786899,\n",
       "        -2045279.34669836,   7197325.93741315,  39886371.75420342,\n",
       "         8329263.72325053,  24448842.64029328,   -851955.85866303,\n",
       "         9051912.61863409,   9365272.62356383,  18754288.47828948,\n",
       "         8291278.50525086])"
      ]
     },
     "execution_count": 31,
     "metadata": {},
     "output_type": "execute_result"
    }
   ],
   "source": [
    "Y_predict"
   ]
  },
  {
   "cell_type": "code",
   "execution_count": 32,
   "id": "6cb0dcd5-35f1-4e4a-a3c1-d732b2d7d0f5",
   "metadata": {},
   "outputs": [],
   "source": [
    "from sklearn.metrics import r2_score,mean_absolute_error\n",
    "score = r2_score(Y_test,Y_predict)\n",
    "mae = mean_absolute_error(Y_test,Y_predict)"
   ]
  },
  {
   "cell_type": "code",
   "execution_count": 33,
   "id": "9d2bca9c-6f9a-4735-b309-2b9afef70642",
   "metadata": {},
   "outputs": [
    {
     "data": {
      "text/plain": [
       "0.6985923334832264"
      ]
     },
     "execution_count": 33,
     "metadata": {},
     "output_type": "execute_result"
    }
   ],
   "source": [
    "score"
   ]
  },
  {
   "cell_type": "code",
   "execution_count": 34,
   "id": "cf7fe488-b1ae-4aeb-9266-d258773095ed",
   "metadata": {},
   "outputs": [
    {
     "data": {
      "text/plain": [
       "6404626.417426137"
      ]
     },
     "execution_count": 34,
     "metadata": {},
     "output_type": "execute_result"
    }
   ],
   "source": [
    "mae"
   ]
  },
  {
   "cell_type": "code",
   "execution_count": null,
   "id": "855b7c15",
   "metadata": {},
   "outputs": [],
   "source": []
  }
 ],
 "metadata": {
  "kernelspec": {
   "display_name": "Python 3 (ipykernel)",
   "language": "python",
   "name": "python3"
  },
  "language_info": {
   "codemirror_mode": {
    "name": "ipython",
    "version": 3
   },
   "file_extension": ".py",
   "mimetype": "text/x-python",
   "name": "python",
   "nbconvert_exporter": "python",
   "pygments_lexer": "ipython3",
   "version": "3.9.13"
  }
 },
 "nbformat": 4,
 "nbformat_minor": 5
}
